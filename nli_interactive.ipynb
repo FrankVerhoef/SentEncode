{
 "cells": [
  {
   "cell_type": "markdown",
   "id": "ce0e6f99",
   "metadata": {},
   "source": [
    "# 1. General setup"
   ]
  },
  {
   "cell_type": "code",
   "execution_count": 1,
   "id": "772d6eed",
   "metadata": {},
   "outputs": [
    {
     "name": "stderr",
     "output_type": "stream",
     "text": [
      "/Users/FrankVerhoef/opt/anaconda3/envs/atcs/lib/python3.9/site-packages/tqdm/auto.py:22: TqdmWarning: IProgress not found. Please update jupyter and ipywidgets. See https://ipywidgets.readthedocs.io/en/stable/user_install.html\n",
      "  from .autonotebook import tqdm as notebook_tqdm\n"
     ]
    }
   ],
   "source": [
    "import torch\n",
    "\n",
    "from snli_lightning import SNLIModule\n",
    "from models import ENCODER_TYPES\n",
    "from encoder import CLASSIFIER_TYPES\n",
    "from data import SNLIdataset, LABEL_VALUE\n",
    "from vocab import Vocab, PAD_TOKEN, UNK_TOKEN\n"
   ]
  },
  {
   "cell_type": "code",
   "execution_count": 2,
   "id": "d0b7c911",
   "metadata": {},
   "outputs": [],
   "source": [
    "LABELS = [k for k, _ in sorted(LABEL_VALUE.items(), key=lambda x: x[1])]\n",
    "\n",
    "def predict_one(model, p, h):\n",
    "    \"\"\"\n",
    "        p and h should be strings\n",
    "    \"\"\"\n",
    "\n",
    "    p_ids = torch.tensor([vocab.encode(vocab.tokenize(p))])\n",
    "    h_ids = torch.tensor([vocab.encode(vocab.tokenize(h))])\n",
    "\n",
    "    out = model((\n",
    "        (p_ids, [len(p_ids)]), \n",
    "        (h_ids, [len(h_ids)])\n",
    "    ))\n",
    "    pred = out.argmax(dim=-1)[0].item()\n",
    "\n",
    "    return LABELS[pred]"
   ]
  },
  {
   "cell_type": "code",
   "execution_count": 3,
   "id": "9c1aff9f",
   "metadata": {},
   "outputs": [
    {
     "name": "stdout",
     "output_type": "stream",
     "text": [
      "Parameters\n",
      "data_dir            \tdata/\n",
      "dataset_dir         \tsnli_1_0/\n",
      "dataset_file        \tsnli_1.0\n",
      "model_dir           \tmodels/\n",
      "vocab_file          \tsnli_vocab.json\n",
      "embeddings_file     \tglove.840B.300d.txt\n",
      "snli_embeddings     \tglove.snli.300d.txt\n",
      "embedding_size      \t300\n",
      "hidden_size         \t2048\n",
      "num_layers          \t64\n",
      "batch_size          \t64\n",
      "aggregate_method    \tmax\n",
      "classifier          \tmlp\n"
     ]
    }
   ],
   "source": [
    "# set params for the sentence encoder\n",
    "opt = {\n",
    "    \"data_dir\": \"data/\",\n",
    "    \"dataset_dir\": \"snli_1_0/\",\n",
    "    \"dataset_file\": \"snli_1.0\",\n",
    "    \"model_dir\": \"models/\",\n",
    "    \"vocab_file\": \"snli_vocab.json\",\n",
    "    \"embeddings_file\": \"glove.840B.300d.txt\",\n",
    "    \"snli_embeddings\": \"glove.snli.300d.txt\",\n",
    "    \"embedding_size\": 300,\n",
    "    \"hidden_size\": 2048,\n",
    "    \"num_layers\": 64,\n",
    "    \"batch_size\": 64,\n",
    "    \"aggregate_method\": \"max\",\n",
    "    \"classifier\": \"mlp\"\n",
    "}\n",
    "\n",
    "print('Parameters')\n",
    "print('\\n'.join([\"{:20}\\t{}\".format(k,v) for k,v in opt.items()]))\n"
   ]
  },
  {
   "cell_type": "code",
   "execution_count": 4,
   "id": "4e515a0e",
   "metadata": {},
   "outputs": [
    {
     "name": "stdout",
     "output_type": "stream",
     "text": [
      "Loaded vocabulary with 33635 tokens\n",
      "Matching vocab with embeddings from data/snli_1_0/glove.snli.300d.txt\n"
     ]
    },
    {
     "name": "stderr",
     "output_type": "stream",
     "text": [
      "30348it [00:10, 2963.19it/s]\n"
     ]
    },
    {
     "name": "stdout",
     "output_type": "stream",
     "text": [
      "Loaded 30348 embeddings from data/snli_1_0/glove.snli.300d.txt\n",
      "Vocab coverage:  total 33635, common 30348 oov 3287 (9.77%)\n",
      "Corpus coverage: total 12324969, common 12316551 oov 8418 (0.07%)\n",
      "Most frequent out-of-vocabulary tokens:\n",
      "                     \t2187\n",
      "..                   \t78\n",
      "rollerskaters        \t62\n",
      "surfboarder          \t50\n",
      "for$                 \t42\n",
      "graffited            \t40\n",
      "parasailer           \t35\n",
      "men-                 \t33\n",
      "sidewalk-            \t30\n",
      "boogieboard          \t28\n"
     ]
    }
   ],
   "source": [
    "# initialize vocab with tokenizer and encoder\n",
    "vocab = Vocab()\n",
    "\n",
    "# get vocabulary from vocabfile\n",
    "dataset_dir = opt[\"data_dir\"] + opt[\"dataset_dir\"]\n",
    "vocab_path = dataset_dir + (opt[\"vocab_file\"] if opt[\"vocab_file\"] != None else \"snli_vocab.json\")\n",
    "assert vocab.load(vocab_path), print(\"Cannot load preprocessed vocab\")\n",
    "\n",
    "# read matched embeddings from preprocessed file\n",
    "embed_path = dataset_dir + (opt[\"snli_embeddings\"] if opt[\"snli_embeddings\"] != None else \"glove.snli.300d.txt\")\n",
    "embedding = vocab.match_with_embeddings(path=embed_path, embedding_size=opt[\"embedding_size\"])\n"
   ]
  },
  {
   "cell_type": "markdown",
   "id": "36b66903",
   "metadata": {},
   "source": [
    "# 2. Test on one model type interactively"
   ]
  },
  {
   "cell_type": "code",
   "execution_count": null,
   "id": "3c85402e",
   "metadata": {},
   "outputs": [],
   "source": [
    "# get encoder type from user\n",
    "enc = input(\"Encoder type [mean, lstm, bilstm, poolbilstm]: \")\n",
    "assert enc in ENCODER_TYPES, \"Unknown encoder type {}\".format(enc)\n",
    "opt[\"encoder_type\"] = enc\n",
    "\n",
    "# load the model\n",
    "print(\"Load model\")\n",
    "model = SNLIModule(embedding=embedding, opt=opt)\n",
    "model.enc.sentence_encoder.load_state_dict(torch.load(opt[\"model_dir\"] + \"encoder_\" + opt[\"encoder_type\"]))\n",
    "model.enc.classifier.load_state_dict(torch.load(opt[\"model_dir\"] + \"classifier_\" + opt[\"encoder_type\"]))\n"
   ]
  },
  {
   "cell_type": "code",
   "execution_count": null,
   "id": "26c3db7f",
   "metadata": {},
   "outputs": [],
   "source": [
    "p = \"i am walking in the rain\"\n",
    "h = \"i need an umbrella\"\n",
    "l = predict_one(model, p, h)\n",
    "print(\"Model predicts: \", l)"
   ]
  },
  {
   "cell_type": "code",
   "execution_count": null,
   "id": "2d47c762",
   "metadata": {},
   "outputs": [],
   "source": [
    "p = \"the weather is really great\"\n",
    "h = \"many people go to the beach\"\n",
    "l = predict_one(model, p, h)\n",
    "print(\"Model predicts: \", l)"
   ]
  },
  {
   "cell_type": "code",
   "execution_count": null,
   "id": "e9452ab2",
   "metadata": {},
   "outputs": [],
   "source": [
    "p = \"i am walking in the sun\"\n",
    "h = \"it must be winter\"\n",
    "l = predict_one(model, p, h)\n",
    "print(\"Model predicts: \", l)"
   ]
  },
  {
   "cell_type": "code",
   "execution_count": null,
   "id": "fdc818c8",
   "metadata": {},
   "outputs": [],
   "source": [
    "# try your own sentences\n",
    "p = input(\"Premise: \")\n",
    "h = input(\"Hypothesis: \")\n",
    "l = predict_one(model, p, h)\n",
    "print(\"Model predicts: \", l)"
   ]
  },
  {
   "cell_type": "markdown",
   "id": "058f47e0",
   "metadata": {},
   "source": [
    "# 3. Test on all four models simultaneously"
   ]
  },
  {
   "cell_type": "code",
   "execution_count": null,
   "id": "8b93189d",
   "metadata": {},
   "outputs": [],
   "source": [
    "m = {}\n",
    "for enc in ENCODER_TYPES:\n",
    "    opt[\"encoder_type\"] = enc\n",
    "    m[enc] = SNLIModule(embedding=embedding, opt=opt)\n",
    "    m[enc].enc.sentence_encoder.load_state_dict(torch.load(opt[\"model_dir\"] + \"encoder_\" + opt[\"encoder_type\"]))\n",
    "    m[enc].enc.classifier.load_state_dict(torch.load(opt[\"model_dir\"] + \"classifier_\" + opt[\"encoder_type\"]))"
   ]
  },
  {
   "cell_type": "code",
   "execution_count": null,
   "id": "86c3b2f6",
   "metadata": {},
   "outputs": [],
   "source": [
    "p = \"i am walking in the rain\"\n",
    "h = \"i need an umbrella\"\n",
    "for enc in ENCODER_TYPES:\n",
    "    l = predict_one(m[enc], p, h)\n",
    "    print(\"Model {} predicts: {}\".format(enc, l))"
   ]
  },
  {
   "cell_type": "code",
   "execution_count": null,
   "id": "8dffefde",
   "metadata": {},
   "outputs": [],
   "source": [
    "p = \"the weather is really great\"\n",
    "h = \"many people go to the beach\"\n",
    "for enc in ENCODER_TYPES:\n",
    "    l = predict_one(m[enc], p, h)\n",
    "    print(\"Model {} predicts: {}\".format(enc, l))"
   ]
  },
  {
   "cell_type": "code",
   "execution_count": null,
   "id": "05a14cd1",
   "metadata": {},
   "outputs": [],
   "source": [
    "p = \"i am walking in the sun\"\n",
    "h = \"it must be winter\"\n",
    "for enc in ENCODER_TYPES:\n",
    "    l = predict_one(m[enc], p, h)\n",
    "    print(\"Model {} predicts: {}\".format(enc, l))"
   ]
  },
  {
   "cell_type": "code",
   "execution_count": null,
   "id": "6cc29e97",
   "metadata": {},
   "outputs": [],
   "source": [
    "# try your own sentences\n",
    "p = input(\"Premise: \")\n",
    "h = input(\"Hypothesis: \")\n",
    "for enc in ENCODER_TYPES:\n",
    "    l = predict_one(m[enc], p, h)\n",
    "    print(\"Model {} predicts: {}\".format(enc, l))"
   ]
  },
  {
   "cell_type": "markdown",
   "id": "3e114cea",
   "metadata": {},
   "source": [
    "# 4. Error analysis on test dataset"
   ]
  },
  {
   "cell_type": "markdown",
   "id": "8a02bd16",
   "metadata": {},
   "source": [
    "## 4.1 Prepare dataframe for analysis"
   ]
  },
  {
   "cell_type": "code",
   "execution_count": 5,
   "id": "fa32504b",
   "metadata": {},
   "outputs": [],
   "source": [
    "import pandas as pd\n",
    "from torch.utils.data import DataLoader\n",
    "from tqdm import tqdm\n",
    "import matplotlib.pyplot as plt"
   ]
  },
  {
   "cell_type": "code",
   "execution_count": 6,
   "id": "43c93f29",
   "metadata": {},
   "outputs": [
    {
     "name": "stderr",
     "output_type": "stream",
     "text": [
      "Load and tokenize dataset: 10000it [00:01, 7873.54it/s]"
     ]
    },
    {
     "name": "stdout",
     "output_type": "stream",
     "text": [
      "Loaded dataset from data/snli_1_0/snli_1.0_test.jsonl with 9824 examples\n"
     ]
    },
    {
     "name": "stderr",
     "output_type": "stream",
     "text": [
      "\n"
     ]
    }
   ],
   "source": [
    "# get dataset for testing\n",
    "\n",
    "test_dataset = SNLIdataset(\n",
    "    path=dataset_dir + opt[\"dataset_file\"] + \"_test.jsonl\",\n",
    "    tokenizer=vocab.tokenize,\n",
    "    encoder=vocab.encode,\n",
    "    max_seq_len=opt[\"num_layers\"]\n",
    ")\n",
    "test_loader = DataLoader(\n",
    "    test_dataset, \n",
    "    batch_size=opt[\"batch_size\"], \n",
    "    collate_fn=test_dataset.batchify\n",
    ")"
   ]
  },
  {
   "cell_type": "code",
   "execution_count": 7,
   "id": "444f5765",
   "metadata": {},
   "outputs": [],
   "source": [
    "# convert test dataset to pandas dataframe\n",
    "df = pd.DataFrame([{\n",
    "        \"premise\": ' '.join(ex[\"premise\"]),\n",
    "        \"hypothesis\": ' '.join(ex[\"hypothesis\"]),\n",
    "        \"len_p\": len(ex[\"premise\"]),\n",
    "        \"len_h\": len(ex[\"hypothesis\"]),\n",
    "        \"label\": LABEL_VALUE[ex[\"gold_label\"]]\n",
    "    } for ex in test_dataset\n",
    "])"
   ]
  },
  {
   "cell_type": "code",
   "execution_count": 8,
   "id": "83884965",
   "metadata": {},
   "outputs": [],
   "source": [
    "# initialize four models and load state dicts per model\n",
    "m = {}\n",
    "for enc in ENCODER_TYPES:\n",
    "    opt[\"encoder_type\"] = enc\n",
    "    m[enc] = SNLIModule(embedding=embedding, opt=opt)\n",
    "    m[enc].enc.sentence_encoder.load_state_dict(torch.load(opt[\"model_dir\"] + \"encoder_\" + opt[\"encoder_type\"]))\n",
    "    m[enc].enc.classifier.load_state_dict(torch.load(opt[\"model_dir\"] + \"classifier_\" + opt[\"encoder_type\"]))\n"
   ]
  },
  {
   "cell_type": "code",
   "execution_count": 9,
   "id": "4c5cfc54",
   "metadata": {},
   "outputs": [],
   "source": [
    "# collect results of the models on the test dataset or load from previously generated csv\n",
    "\n",
    "LOAD = True\n",
    "\n",
    "if LOAD:\n",
    "    df_results = pd.read_csv(\"df_results.csv\", index_col=None)\n",
    "else:\n",
    "    df_results = pd.DataFrame()\n",
    "    for enc in ENCODER_TYPES:\n",
    "        snli_model=m[enc]\n",
    "        results = []\n",
    "        for b in tqdm(iter(test_loader), desc=\"Predict \" + enc):\n",
    "            (premises, hypotheses), _ = b\n",
    "            preds = snli_model((premises, hypotheses)).argmax(dim=-1)\n",
    "            results += preds.tolist()\n",
    "        df_results[\"p_\" + enc] = results\n",
    "\n",
    "    df_results[[\"p_mean\", \"p_lstm\", \"p_bilstm\", \"p_poolbilstm\"]].to_csv(\"df_results.csv\", index=False)\n",
    "    print(\"Saved dataframe with results in\", \"df_results.csv\")"
   ]
  },
  {
   "cell_type": "code",
   "execution_count": 10,
   "id": "305f2ca5",
   "metadata": {},
   "outputs": [
    {
     "data": {
      "text/plain": [
       "{'entailment': 0, 'neutral': 1, 'contradiction': 2}"
      ]
     },
     "execution_count": 10,
     "metadata": {},
     "output_type": "execute_result"
    }
   ],
   "source": [
    "LABEL_VALUE"
   ]
  },
  {
   "cell_type": "code",
   "execution_count": 11,
   "id": "32c05162",
   "metadata": {},
   "outputs": [
    {
     "data": {
      "text/html": [
       "<div>\n",
       "<style scoped>\n",
       "    .dataframe tbody tr th:only-of-type {\n",
       "        vertical-align: middle;\n",
       "    }\n",
       "\n",
       "    .dataframe tbody tr th {\n",
       "        vertical-align: top;\n",
       "    }\n",
       "\n",
       "    .dataframe thead th {\n",
       "        text-align: right;\n",
       "    }\n",
       "</style>\n",
       "<table border=\"1\" class=\"dataframe\">\n",
       "  <thead>\n",
       "    <tr style=\"text-align: right;\">\n",
       "      <th></th>\n",
       "      <th>p_mean</th>\n",
       "      <th>p_lstm</th>\n",
       "      <th>p_bilstm</th>\n",
       "      <th>p_poolbilstm</th>\n",
       "    </tr>\n",
       "  </thead>\n",
       "  <tbody>\n",
       "    <tr>\n",
       "      <th>0</th>\n",
       "      <td>2</td>\n",
       "      <td>2</td>\n",
       "      <td>2</td>\n",
       "      <td>2</td>\n",
       "    </tr>\n",
       "    <tr>\n",
       "      <th>1</th>\n",
       "      <td>0</td>\n",
       "      <td>0</td>\n",
       "      <td>0</td>\n",
       "      <td>0</td>\n",
       "    </tr>\n",
       "    <tr>\n",
       "      <th>2</th>\n",
       "      <td>2</td>\n",
       "      <td>2</td>\n",
       "      <td>2</td>\n",
       "      <td>2</td>\n",
       "    </tr>\n",
       "    <tr>\n",
       "      <th>3</th>\n",
       "      <td>0</td>\n",
       "      <td>1</td>\n",
       "      <td>1</td>\n",
       "      <td>1</td>\n",
       "    </tr>\n",
       "    <tr>\n",
       "      <th>4</th>\n",
       "      <td>1</td>\n",
       "      <td>1</td>\n",
       "      <td>1</td>\n",
       "      <td>0</td>\n",
       "    </tr>\n",
       "    <tr>\n",
       "      <th>...</th>\n",
       "      <td>...</td>\n",
       "      <td>...</td>\n",
       "      <td>...</td>\n",
       "      <td>...</td>\n",
       "    </tr>\n",
       "    <tr>\n",
       "      <th>9819</th>\n",
       "      <td>2</td>\n",
       "      <td>2</td>\n",
       "      <td>2</td>\n",
       "      <td>2</td>\n",
       "    </tr>\n",
       "    <tr>\n",
       "      <th>9820</th>\n",
       "      <td>0</td>\n",
       "      <td>0</td>\n",
       "      <td>0</td>\n",
       "      <td>0</td>\n",
       "    </tr>\n",
       "    <tr>\n",
       "      <th>9821</th>\n",
       "      <td>2</td>\n",
       "      <td>2</td>\n",
       "      <td>2</td>\n",
       "      <td>2</td>\n",
       "    </tr>\n",
       "    <tr>\n",
       "      <th>9822</th>\n",
       "      <td>0</td>\n",
       "      <td>0</td>\n",
       "      <td>0</td>\n",
       "      <td>0</td>\n",
       "    </tr>\n",
       "    <tr>\n",
       "      <th>9823</th>\n",
       "      <td>0</td>\n",
       "      <td>1</td>\n",
       "      <td>1</td>\n",
       "      <td>1</td>\n",
       "    </tr>\n",
       "  </tbody>\n",
       "</table>\n",
       "<p>9824 rows × 4 columns</p>\n",
       "</div>"
      ],
      "text/plain": [
       "      p_mean  p_lstm  p_bilstm  p_poolbilstm\n",
       "0          2       2         2             2\n",
       "1          0       0         0             0\n",
       "2          2       2         2             2\n",
       "3          0       1         1             1\n",
       "4          1       1         1             0\n",
       "...      ...     ...       ...           ...\n",
       "9819       2       2         2             2\n",
       "9820       0       0         0             0\n",
       "9821       2       2         2             2\n",
       "9822       0       0         0             0\n",
       "9823       0       1         1             1\n",
       "\n",
       "[9824 rows x 4 columns]"
      ]
     },
     "execution_count": 11,
     "metadata": {},
     "output_type": "execute_result"
    }
   ],
   "source": [
    "df_results"
   ]
  },
  {
   "cell_type": "code",
   "execution_count": 12,
   "id": "78619176",
   "metadata": {},
   "outputs": [],
   "source": [
    "# add results as colums to dataframe\n",
    "df = pd.concat([df, df_results], axis=1)"
   ]
  },
  {
   "cell_type": "code",
   "execution_count": 13,
   "id": "4a24f563",
   "metadata": {},
   "outputs": [],
   "source": [
    "# add colums to reflect whether prediction was correct (1) or not (0)\n",
    "for enc in ENCODER_TYPES:\n",
    "    df[\"c_\"+enc] = (df[\"label\"] == df[\"p_\"+enc]) * 1\n"
   ]
  },
  {
   "cell_type": "code",
   "execution_count": 14,
   "id": "cf30f469",
   "metadata": {},
   "outputs": [
    {
     "data": {
      "text/html": [
       "<div>\n",
       "<style scoped>\n",
       "    .dataframe tbody tr th:only-of-type {\n",
       "        vertical-align: middle;\n",
       "    }\n",
       "\n",
       "    .dataframe tbody tr th {\n",
       "        vertical-align: top;\n",
       "    }\n",
       "\n",
       "    .dataframe thead th {\n",
       "        text-align: right;\n",
       "    }\n",
       "</style>\n",
       "<table border=\"1\" class=\"dataframe\">\n",
       "  <thead>\n",
       "    <tr style=\"text-align: right;\">\n",
       "      <th></th>\n",
       "      <th>premise</th>\n",
       "      <th>hypothesis</th>\n",
       "      <th>len_p</th>\n",
       "      <th>len_h</th>\n",
       "      <th>label</th>\n",
       "      <th>p_mean</th>\n",
       "      <th>p_lstm</th>\n",
       "      <th>p_bilstm</th>\n",
       "      <th>p_poolbilstm</th>\n",
       "      <th>c_mean</th>\n",
       "      <th>c_lstm</th>\n",
       "      <th>c_bilstm</th>\n",
       "      <th>c_poolbilstm</th>\n",
       "    </tr>\n",
       "  </thead>\n",
       "  <tbody>\n",
       "    <tr>\n",
       "      <th>0</th>\n",
       "      <td>this church choir sings to the masses as they sing joyous songs from the book at a church .</td>\n",
       "      <td>the church has cracks in the ceiling .</td>\n",
       "      <td>19</td>\n",
       "      <td>8</td>\n",
       "      <td>1</td>\n",
       "      <td>2</td>\n",
       "      <td>2</td>\n",
       "      <td>2</td>\n",
       "      <td>2</td>\n",
       "      <td>0</td>\n",
       "      <td>0</td>\n",
       "      <td>0</td>\n",
       "      <td>0</td>\n",
       "    </tr>\n",
       "    <tr>\n",
       "      <th>1</th>\n",
       "      <td>this church choir sings to the masses as they sing joyous songs from the book at a church .</td>\n",
       "      <td>the church is filled with song .</td>\n",
       "      <td>19</td>\n",
       "      <td>7</td>\n",
       "      <td>0</td>\n",
       "      <td>0</td>\n",
       "      <td>0</td>\n",
       "      <td>0</td>\n",
       "      <td>0</td>\n",
       "      <td>1</td>\n",
       "      <td>1</td>\n",
       "      <td>1</td>\n",
       "      <td>1</td>\n",
       "    </tr>\n",
       "    <tr>\n",
       "      <th>2</th>\n",
       "      <td>this church choir sings to the masses as they sing joyous songs from the book at a church .</td>\n",
       "      <td>a choir singing at a baseball game .</td>\n",
       "      <td>19</td>\n",
       "      <td>8</td>\n",
       "      <td>2</td>\n",
       "      <td>2</td>\n",
       "      <td>2</td>\n",
       "      <td>2</td>\n",
       "      <td>2</td>\n",
       "      <td>1</td>\n",
       "      <td>1</td>\n",
       "      <td>1</td>\n",
       "      <td>1</td>\n",
       "    </tr>\n",
       "    <tr>\n",
       "      <th>3</th>\n",
       "      <td>a woman with a green headscarf , blue shirt and a very big grin .</td>\n",
       "      <td>the woman is young .</td>\n",
       "      <td>15</td>\n",
       "      <td>5</td>\n",
       "      <td>1</td>\n",
       "      <td>0</td>\n",
       "      <td>1</td>\n",
       "      <td>1</td>\n",
       "      <td>1</td>\n",
       "      <td>0</td>\n",
       "      <td>1</td>\n",
       "      <td>1</td>\n",
       "      <td>1</td>\n",
       "    </tr>\n",
       "    <tr>\n",
       "      <th>4</th>\n",
       "      <td>a woman with a green headscarf , blue shirt and a very big grin .</td>\n",
       "      <td>the woman is very happy .</td>\n",
       "      <td>15</td>\n",
       "      <td>6</td>\n",
       "      <td>0</td>\n",
       "      <td>1</td>\n",
       "      <td>1</td>\n",
       "      <td>1</td>\n",
       "      <td>0</td>\n",
       "      <td>0</td>\n",
       "      <td>0</td>\n",
       "      <td>0</td>\n",
       "      <td>1</td>\n",
       "    </tr>\n",
       "    <tr>\n",
       "      <th>5</th>\n",
       "      <td>a woman with a green headscarf , blue shirt and a very big grin .</td>\n",
       "      <td>the woman has been shot .</td>\n",
       "      <td>15</td>\n",
       "      <td>6</td>\n",
       "      <td>2</td>\n",
       "      <td>0</td>\n",
       "      <td>1</td>\n",
       "      <td>1</td>\n",
       "      <td>1</td>\n",
       "      <td>0</td>\n",
       "      <td>0</td>\n",
       "      <td>0</td>\n",
       "      <td>0</td>\n",
       "    </tr>\n",
       "  </tbody>\n",
       "</table>\n",
       "</div>"
      ],
      "text/plain": [
       "                                                                                       premise  \\\n",
       "0  this church choir sings to the masses as they sing joyous songs from the book at a church .   \n",
       "1  this church choir sings to the masses as they sing joyous songs from the book at a church .   \n",
       "2  this church choir sings to the masses as they sing joyous songs from the book at a church .   \n",
       "3                            a woman with a green headscarf , blue shirt and a very big grin .   \n",
       "4                            a woman with a green headscarf , blue shirt and a very big grin .   \n",
       "5                            a woman with a green headscarf , blue shirt and a very big grin .   \n",
       "\n",
       "                               hypothesis  len_p  len_h  label  p_mean  \\\n",
       "0  the church has cracks in the ceiling .     19      8      1       2   \n",
       "1        the church is filled with song .     19      7      0       0   \n",
       "2    a choir singing at a baseball game .     19      8      2       2   \n",
       "3                    the woman is young .     15      5      1       0   \n",
       "4               the woman is very happy .     15      6      0       1   \n",
       "5               the woman has been shot .     15      6      2       0   \n",
       "\n",
       "   p_lstm  p_bilstm  p_poolbilstm  c_mean  c_lstm  c_bilstm  c_poolbilstm  \n",
       "0       2         2             2       0       0         0             0  \n",
       "1       0         0             0       1       1         1             1  \n",
       "2       2         2             2       1       1         1             1  \n",
       "3       1         1             1       0       1         1             1  \n",
       "4       1         1             0       0       0         0             1  \n",
       "5       1         1             1       0       0         0             0  "
      ]
     },
     "execution_count": 14,
     "metadata": {},
     "output_type": "execute_result"
    }
   ],
   "source": [
    "pd.set_option('display.max_colwidth', None)\n",
    "df.head(6)"
   ]
  },
  {
   "cell_type": "code",
   "execution_count": 15,
   "id": "7d0604bb",
   "metadata": {},
   "outputs": [
    {
     "data": {
      "text/html": [
       "<div>\n",
       "<style scoped>\n",
       "    .dataframe tbody tr th:only-of-type {\n",
       "        vertical-align: middle;\n",
       "    }\n",
       "\n",
       "    .dataframe tbody tr th {\n",
       "        vertical-align: top;\n",
       "    }\n",
       "\n",
       "    .dataframe thead th {\n",
       "        text-align: right;\n",
       "    }\n",
       "</style>\n",
       "<table border=\"1\" class=\"dataframe\">\n",
       "  <thead>\n",
       "    <tr style=\"text-align: right;\">\n",
       "      <th></th>\n",
       "      <th>len_p</th>\n",
       "      <th>len_h</th>\n",
       "      <th>label</th>\n",
       "      <th>p_mean</th>\n",
       "      <th>p_lstm</th>\n",
       "      <th>p_bilstm</th>\n",
       "      <th>p_poolbilstm</th>\n",
       "      <th>c_mean</th>\n",
       "      <th>c_lstm</th>\n",
       "      <th>c_bilstm</th>\n",
       "      <th>c_poolbilstm</th>\n",
       "    </tr>\n",
       "  </thead>\n",
       "  <tbody>\n",
       "    <tr>\n",
       "      <th>count</th>\n",
       "      <td>9824.000000</td>\n",
       "      <td>9824.000000</td>\n",
       "      <td>9824.000000</td>\n",
       "      <td>9824.000000</td>\n",
       "      <td>9824.000000</td>\n",
       "      <td>9824.000000</td>\n",
       "      <td>9824.000000</td>\n",
       "      <td>9824.000000</td>\n",
       "      <td>9824.000000</td>\n",
       "      <td>9824.000000</td>\n",
       "      <td>9824.000000</td>\n",
       "    </tr>\n",
       "    <tr>\n",
       "      <th>mean</th>\n",
       "      <td>15.306291</td>\n",
       "      <td>8.336421</td>\n",
       "      <td>0.986665</td>\n",
       "      <td>0.962948</td>\n",
       "      <td>0.951954</td>\n",
       "      <td>0.960607</td>\n",
       "      <td>0.970786</td>\n",
       "      <td>0.651262</td>\n",
       "      <td>0.784813</td>\n",
       "      <td>0.793465</td>\n",
       "      <td>0.839169</td>\n",
       "    </tr>\n",
       "    <tr>\n",
       "      <th>std</th>\n",
       "      <td>6.680972</td>\n",
       "      <td>3.246736</td>\n",
       "      <td>0.819892</td>\n",
       "      <td>0.827632</td>\n",
       "      <td>0.822500</td>\n",
       "      <td>0.823516</td>\n",
       "      <td>0.824928</td>\n",
       "      <td>0.476595</td>\n",
       "      <td>0.410973</td>\n",
       "      <td>0.404839</td>\n",
       "      <td>0.367393</td>\n",
       "    </tr>\n",
       "    <tr>\n",
       "      <th>min</th>\n",
       "      <td>2.000000</td>\n",
       "      <td>1.000000</td>\n",
       "      <td>0.000000</td>\n",
       "      <td>0.000000</td>\n",
       "      <td>0.000000</td>\n",
       "      <td>0.000000</td>\n",
       "      <td>0.000000</td>\n",
       "      <td>0.000000</td>\n",
       "      <td>0.000000</td>\n",
       "      <td>0.000000</td>\n",
       "      <td>0.000000</td>\n",
       "    </tr>\n",
       "    <tr>\n",
       "      <th>25%</th>\n",
       "      <td>10.000000</td>\n",
       "      <td>6.000000</td>\n",
       "      <td>0.000000</td>\n",
       "      <td>0.000000</td>\n",
       "      <td>0.000000</td>\n",
       "      <td>0.000000</td>\n",
       "      <td>0.000000</td>\n",
       "      <td>0.000000</td>\n",
       "      <td>1.000000</td>\n",
       "      <td>1.000000</td>\n",
       "      <td>1.000000</td>\n",
       "    </tr>\n",
       "    <tr>\n",
       "      <th>50%</th>\n",
       "      <td>14.000000</td>\n",
       "      <td>8.000000</td>\n",
       "      <td>1.000000</td>\n",
       "      <td>1.000000</td>\n",
       "      <td>1.000000</td>\n",
       "      <td>1.000000</td>\n",
       "      <td>1.000000</td>\n",
       "      <td>1.000000</td>\n",
       "      <td>1.000000</td>\n",
       "      <td>1.000000</td>\n",
       "      <td>1.000000</td>\n",
       "    </tr>\n",
       "    <tr>\n",
       "      <th>75%</th>\n",
       "      <td>19.000000</td>\n",
       "      <td>10.000000</td>\n",
       "      <td>2.000000</td>\n",
       "      <td>2.000000</td>\n",
       "      <td>2.000000</td>\n",
       "      <td>2.000000</td>\n",
       "      <td>2.000000</td>\n",
       "      <td>1.000000</td>\n",
       "      <td>1.000000</td>\n",
       "      <td>1.000000</td>\n",
       "      <td>1.000000</td>\n",
       "    </tr>\n",
       "    <tr>\n",
       "      <th>max</th>\n",
       "      <td>57.000000</td>\n",
       "      <td>30.000000</td>\n",
       "      <td>2.000000</td>\n",
       "      <td>2.000000</td>\n",
       "      <td>2.000000</td>\n",
       "      <td>2.000000</td>\n",
       "      <td>2.000000</td>\n",
       "      <td>1.000000</td>\n",
       "      <td>1.000000</td>\n",
       "      <td>1.000000</td>\n",
       "      <td>1.000000</td>\n",
       "    </tr>\n",
       "  </tbody>\n",
       "</table>\n",
       "</div>"
      ],
      "text/plain": [
       "             len_p        len_h        label       p_mean       p_lstm  \\\n",
       "count  9824.000000  9824.000000  9824.000000  9824.000000  9824.000000   \n",
       "mean     15.306291     8.336421     0.986665     0.962948     0.951954   \n",
       "std       6.680972     3.246736     0.819892     0.827632     0.822500   \n",
       "min       2.000000     1.000000     0.000000     0.000000     0.000000   \n",
       "25%      10.000000     6.000000     0.000000     0.000000     0.000000   \n",
       "50%      14.000000     8.000000     1.000000     1.000000     1.000000   \n",
       "75%      19.000000    10.000000     2.000000     2.000000     2.000000   \n",
       "max      57.000000    30.000000     2.000000     2.000000     2.000000   \n",
       "\n",
       "          p_bilstm  p_poolbilstm       c_mean       c_lstm     c_bilstm  \\\n",
       "count  9824.000000   9824.000000  9824.000000  9824.000000  9824.000000   \n",
       "mean      0.960607      0.970786     0.651262     0.784813     0.793465   \n",
       "std       0.823516      0.824928     0.476595     0.410973     0.404839   \n",
       "min       0.000000      0.000000     0.000000     0.000000     0.000000   \n",
       "25%       0.000000      0.000000     0.000000     1.000000     1.000000   \n",
       "50%       1.000000      1.000000     1.000000     1.000000     1.000000   \n",
       "75%       2.000000      2.000000     1.000000     1.000000     1.000000   \n",
       "max       2.000000      2.000000     1.000000     1.000000     1.000000   \n",
       "\n",
       "       c_poolbilstm  \n",
       "count   9824.000000  \n",
       "mean       0.839169  \n",
       "std        0.367393  \n",
       "min        0.000000  \n",
       "25%        1.000000  \n",
       "50%        1.000000  \n",
       "75%        1.000000  \n",
       "max        1.000000  "
      ]
     },
     "execution_count": 15,
     "metadata": {},
     "output_type": "execute_result"
    }
   ],
   "source": [
    "df.describe()"
   ]
  },
  {
   "cell_type": "code",
   "execution_count": 16,
   "id": "88137620",
   "metadata": {},
   "outputs": [
    {
     "data": {
      "text/html": [
       "<div>\n",
       "<style scoped>\n",
       "    .dataframe tbody tr th:only-of-type {\n",
       "        vertical-align: middle;\n",
       "    }\n",
       "\n",
       "    .dataframe tbody tr th {\n",
       "        vertical-align: top;\n",
       "    }\n",
       "\n",
       "    .dataframe thead th {\n",
       "        text-align: right;\n",
       "    }\n",
       "</style>\n",
       "<table border=\"1\" class=\"dataframe\">\n",
       "  <thead>\n",
       "    <tr style=\"text-align: right;\">\n",
       "      <th></th>\n",
       "      <th>premise</th>\n",
       "      <th>hypothesis</th>\n",
       "      <th>label</th>\n",
       "      <th>p_poolbilstm</th>\n",
       "    </tr>\n",
       "  </thead>\n",
       "  <tbody>\n",
       "    <tr>\n",
       "      <th>0</th>\n",
       "      <td>this church choir sings to the masses as they sing joyous songs from the book at a church .</td>\n",
       "      <td>the church has cracks in the ceiling .</td>\n",
       "      <td>1</td>\n",
       "      <td>2</td>\n",
       "    </tr>\n",
       "    <tr>\n",
       "      <th>5</th>\n",
       "      <td>a woman with a green headscarf , blue shirt and a very big grin .</td>\n",
       "      <td>the woman has been shot .</td>\n",
       "      <td>2</td>\n",
       "      <td>1</td>\n",
       "    </tr>\n",
       "    <tr>\n",
       "      <th>11</th>\n",
       "      <td>a statue at a museum that no seems to be looking at .</td>\n",
       "      <td>tons of people are gathered around the statue .</td>\n",
       "      <td>2</td>\n",
       "      <td>1</td>\n",
       "    </tr>\n",
       "    <tr>\n",
       "      <th>12</th>\n",
       "      <td>a land rover is being driven across a river .</td>\n",
       "      <td>a land rover is splashing water as it crosses a river .</td>\n",
       "      <td>0</td>\n",
       "      <td>1</td>\n",
       "    </tr>\n",
       "    <tr>\n",
       "      <th>20</th>\n",
       "      <td>a blond - haired doctor and her african american assistant looking threw new medical manuals .</td>\n",
       "      <td>a doctor is studying</td>\n",
       "      <td>1</td>\n",
       "      <td>0</td>\n",
       "    </tr>\n",
       "    <tr>\n",
       "      <th>31</th>\n",
       "      <td>3 young man in hoods standing in the middle of a quiet street facing the camera .</td>\n",
       "      <td>three hood wearing people pose for a picture .</td>\n",
       "      <td>0</td>\n",
       "      <td>1</td>\n",
       "    </tr>\n",
       "    <tr>\n",
       "      <th>45</th>\n",
       "      <td>during calf roping a cowboy calls off his horse .</td>\n",
       "      <td>a first time roper falls off his horse .</td>\n",
       "      <td>1</td>\n",
       "      <td>2</td>\n",
       "    </tr>\n",
       "    <tr>\n",
       "      <th>65</th>\n",
       "      <td>a snowboarder on a wide plain of snow</td>\n",
       "      <td>a snow field with a snowboarder on it</td>\n",
       "      <td>0</td>\n",
       "      <td>2</td>\n",
       "    </tr>\n",
       "    <tr>\n",
       "      <th>66</th>\n",
       "      <td>a snowboarder on a wide plain of snow</td>\n",
       "      <td>a snowboarder gliding over a field of snow</td>\n",
       "      <td>1</td>\n",
       "      <td>2</td>\n",
       "    </tr>\n",
       "    <tr>\n",
       "      <th>67</th>\n",
       "      <td>a snowboarder on a wide plain of snow</td>\n",
       "      <td>a snowmobile in a blizzard</td>\n",
       "      <td>1</td>\n",
       "      <td>2</td>\n",
       "    </tr>\n",
       "  </tbody>\n",
       "</table>\n",
       "</div>"
      ],
      "text/plain": [
       "                                                                                           premise  \\\n",
       "0      this church choir sings to the masses as they sing joyous songs from the book at a church .   \n",
       "5                                a woman with a green headscarf , blue shirt and a very big grin .   \n",
       "11                                           a statue at a museum that no seems to be looking at .   \n",
       "12                                                   a land rover is being driven across a river .   \n",
       "20  a blond - haired doctor and her african american assistant looking threw new medical manuals .   \n",
       "31               3 young man in hoods standing in the middle of a quiet street facing the camera .   \n",
       "45                                               during calf roping a cowboy calls off his horse .   \n",
       "65                                                           a snowboarder on a wide plain of snow   \n",
       "66                                                           a snowboarder on a wide plain of snow   \n",
       "67                                                           a snowboarder on a wide plain of snow   \n",
       "\n",
       "                                                 hypothesis  label  \\\n",
       "0                    the church has cracks in the ceiling .      1   \n",
       "5                                 the woman has been shot .      2   \n",
       "11          tons of people are gathered around the statue .      2   \n",
       "12  a land rover is splashing water as it crosses a river .      0   \n",
       "20                                     a doctor is studying      1   \n",
       "31           three hood wearing people pose for a picture .      0   \n",
       "45                 a first time roper falls off his horse .      1   \n",
       "65                    a snow field with a snowboarder on it      0   \n",
       "66               a snowboarder gliding over a field of snow      1   \n",
       "67                               a snowmobile in a blizzard      1   \n",
       "\n",
       "    p_poolbilstm  \n",
       "0              2  \n",
       "5              1  \n",
       "11             1  \n",
       "12             1  \n",
       "20             0  \n",
       "31             1  \n",
       "45             2  \n",
       "65             2  \n",
       "66             2  \n",
       "67             2  "
      ]
     },
     "execution_count": 16,
     "metadata": {},
     "output_type": "execute_result"
    }
   ],
   "source": [
    "# view some examples of errors\n",
    "df[[\"premise\", \"hypothesis\", \"label\", \"p_poolbilstm\"]][df.c_poolbilstm==0][:10]"
   ]
  },
  {
   "cell_type": "markdown",
   "id": "80822ece",
   "metadata": {},
   "source": [
    "## 4.2 Test impact of length of premise and hypothesis on accuracy"
   ]
  },
  {
   "cell_type": "code",
   "execution_count": 17,
   "id": "0fc2a10c",
   "metadata": {},
   "outputs": [
    {
     "data": {
      "text/plain": [
       "Text(0.5, 0, 'Length of sentence (number of tokens)')"
      ]
     },
     "execution_count": 17,
     "metadata": {},
     "output_type": "execute_result"
    },
    {
     "data": {
      "image/png": "[encoded data removed]",
      "text/plain": [
       "<Figure size 432x288 with 1 Axes>"
      ]
     },
     "metadata": {
      "needs_background": "light"
     },
     "output_type": "display_data"
    }
   ],
   "source": [
    "ax = df[\"len_p\"].plot.hist(bins=20, alpha=0.5, label=\"premise\")\n",
    "df[\"len_h\"].plot.hist(ax=ax, bins=20, alpha=0.5, label=\"hypothesis\")\n",
    "ax.legend()\n",
    "ax.set_xlabel(\"Length of sentence (number of tokens)\")"
   ]
  },
  {
   "cell_type": "code",
   "execution_count": 18,
   "id": "25b8b5af",
   "metadata": {},
   "outputs": [
    {
     "data": {
      "text/plain": [
       "Text(0, 0.5, 'Length of hypothesis')"
      ]
     },
     "execution_count": 18,
     "metadata": {},
     "output_type": "execute_result"
    },
    {
     "data": {
      "image/png": "[encoded data removed]",
      "text/plain": [
       "<Figure size 432x288 with 1 Axes>"
      ]
     },
     "metadata": {
      "needs_background": "light"
     },
     "output_type": "display_data"
    }
   ],
   "source": [
    "ax=df.plot.scatter(x=\"len_p\", y=\"len_h\")\n",
    "ax.set_xlabel(\"Length of premise\")\n",
    "ax.set_ylabel(\"Length of hypothesis\")"
   ]
  },
  {
   "cell_type": "code",
   "execution_count": 19,
   "id": "4f146d27",
   "metadata": {},
   "outputs": [
    {
     "data": {
      "image/png": "[encoded data removed]",
      "text/plain": [
       "<Figure size 864x576 with 4 Axes>"
      ]
     },
     "metadata": {
      "needs_background": "light"
     },
     "output_type": "display_data"
    }
   ],
   "source": [
    "fig, axs = plt.subplots(2, 2, figsize=(12,8))\n",
    "for i, enc in enumerate(ENCODER_TYPES):\n",
    "    ax = axs[i // 2][i % 2]\n",
    "    df[df[\"c_\"+enc] == 1].plot.scatter(ax=ax, x=\"len_p\", y=\"len_h\", label=\"Correct\", color='g', alpha=0.2)\n",
    "    df[df[\"c_\"+enc] == 0].plot.scatter(ax=ax, x=\"len_p\", y=\"len_h\", label=\"Incorrect\", color='r', alpha=0.2)\n",
    "\n",
    "    if i // 2 == 1: \n",
    "        ax.set_xlabel(\"Length of premise\")\n",
    "    else:\n",
    "        ax.set_xlabel(None)\n",
    "    if i % 2 == 0: \n",
    "        ax.set_ylabel(\"Length of hypothesis\")\n",
    "    else:\n",
    "        ax.set_ylabel(None)\n",
    "    ax.set_title(enc)"
   ]
  },
  {
   "cell_type": "code",
   "execution_count": 20,
   "id": "a93b4213",
   "metadata": {},
   "outputs": [],
   "source": [
    "def length_category(x):\n",
    "    if x<40:\n",
    "        return x // 8\n",
    "    else:\n",
    "        return 5\n",
    "    \n",
    "df[\"len_p_cat\"] = df[\"len_p\"].apply(length_category)\n",
    "df[\"len_h_cat\"] = df[\"len_h\"].apply(length_category)\n"
   ]
  },
  {
   "cell_type": "code",
   "execution_count": 21,
   "id": "0fd596ba",
   "metadata": {},
   "outputs": [],
   "source": [
    "df_lenp = df[[\"len_p_cat\", \"len_p\", \"c_mean\", \"c_lstm\", \"c_bilstm\", \"c_poolbilstm\"]].groupby(\"len_p_cat\", as_index=False).mean()\n",
    "df_lenh = df[[\"len_h_cat\", \"len_h\", \"c_mean\", \"c_lstm\", \"c_bilstm\", \"c_poolbilstm\"]].groupby(\"len_h_cat\", as_index=False).mean()"
   ]
  },
  {
   "cell_type": "code",
   "execution_count": 22,
   "id": "b550dc76",
   "metadata": {},
   "outputs": [],
   "source": [
    "df_lenp = df[[\"premise\", \"len_p_cat\", \"len_p\", \"c_mean\", \"c_lstm\", \"c_bilstm\", \"c_poolbilstm\"]] \\\n",
    "    .groupby(\"len_p_cat\", as_index=False) \\\n",
    "    .agg({'premise':'count', 'len_p':'mean', 'c_mean':'mean', 'c_lstm':'mean', 'c_bilstm':'mean', 'c_poolbilstm':'mean'}) \n"
   ]
  },
  {
   "cell_type": "code",
   "execution_count": 23,
   "id": "b72ec50a",
   "metadata": {},
   "outputs": [
    {
     "data": {
      "text/html": [
       "<div>\n",
       "<style scoped>\n",
       "    .dataframe tbody tr th:only-of-type {\n",
       "        vertical-align: middle;\n",
       "    }\n",
       "\n",
       "    .dataframe tbody tr th {\n",
       "        vertical-align: top;\n",
       "    }\n",
       "\n",
       "    .dataframe thead th {\n",
       "        text-align: right;\n",
       "    }\n",
       "</style>\n",
       "<table border=\"1\" class=\"dataframe\">\n",
       "  <thead>\n",
       "    <tr style=\"text-align: right;\">\n",
       "      <th></th>\n",
       "      <th>len_p_cat</th>\n",
       "      <th>premise</th>\n",
       "      <th>len_p</th>\n",
       "      <th>c_mean</th>\n",
       "      <th>c_lstm</th>\n",
       "      <th>c_bilstm</th>\n",
       "      <th>c_poolbilstm</th>\n",
       "    </tr>\n",
       "  </thead>\n",
       "  <tbody>\n",
       "    <tr>\n",
       "      <th>0</th>\n",
       "      <td>0</td>\n",
       "      <td>648</td>\n",
       "      <td>6.334877</td>\n",
       "      <td>0.635802</td>\n",
       "      <td>0.797840</td>\n",
       "      <td>0.799383</td>\n",
       "      <td>0.825617</td>\n",
       "    </tr>\n",
       "    <tr>\n",
       "      <th>1</th>\n",
       "      <td>1</td>\n",
       "      <td>5173</td>\n",
       "      <td>11.414073</td>\n",
       "      <td>0.658032</td>\n",
       "      <td>0.795090</td>\n",
       "      <td>0.803789</td>\n",
       "      <td>0.841678</td>\n",
       "    </tr>\n",
       "    <tr>\n",
       "      <th>2</th>\n",
       "      <td>2</td>\n",
       "      <td>2902</td>\n",
       "      <td>19.187112</td>\n",
       "      <td>0.654032</td>\n",
       "      <td>0.771192</td>\n",
       "      <td>0.784287</td>\n",
       "      <td>0.843901</td>\n",
       "    </tr>\n",
       "    <tr>\n",
       "      <th>3</th>\n",
       "      <td>3</td>\n",
       "      <td>887</td>\n",
       "      <td>26.569335</td>\n",
       "      <td>0.616685</td>\n",
       "      <td>0.757610</td>\n",
       "      <td>0.760992</td>\n",
       "      <td>0.815107</td>\n",
       "    </tr>\n",
       "    <tr>\n",
       "      <th>4</th>\n",
       "      <td>4</td>\n",
       "      <td>152</td>\n",
       "      <td>34.546053</td>\n",
       "      <td>0.651316</td>\n",
       "      <td>0.802632</td>\n",
       "      <td>0.815789</td>\n",
       "      <td>0.881579</td>\n",
       "    </tr>\n",
       "    <tr>\n",
       "      <th>5</th>\n",
       "      <td>5</td>\n",
       "      <td>62</td>\n",
       "      <td>43.870968</td>\n",
       "      <td>0.612903</td>\n",
       "      <td>0.774194</td>\n",
       "      <td>0.709677</td>\n",
       "      <td>0.790323</td>\n",
       "    </tr>\n",
       "  </tbody>\n",
       "</table>\n",
       "</div>"
      ],
      "text/plain": [
       "   len_p_cat  premise      len_p    c_mean    c_lstm  c_bilstm  c_poolbilstm\n",
       "0          0      648   6.334877  0.635802  0.797840  0.799383      0.825617\n",
       "1          1     5173  11.414073  0.658032  0.795090  0.803789      0.841678\n",
       "2          2     2902  19.187112  0.654032  0.771192  0.784287      0.843901\n",
       "3          3      887  26.569335  0.616685  0.757610  0.760992      0.815107\n",
       "4          4      152  34.546053  0.651316  0.802632  0.815789      0.881579\n",
       "5          5       62  43.870968  0.612903  0.774194  0.709677      0.790323"
      ]
     },
     "execution_count": 23,
     "metadata": {},
     "output_type": "execute_result"
    }
   ],
   "source": [
    "df_lenp"
   ]
  },
  {
   "cell_type": "code",
   "execution_count": 24,
   "id": "eb502d90",
   "metadata": {},
   "outputs": [
    {
     "data": {
      "text/plain": [
       "<matplotlib.legend.Legend at 0x7fb983f4ad90>"
      ]
     },
     "execution_count": 24,
     "metadata": {},
     "output_type": "execute_result"
    },
    {
     "data": {
      "image/png": "[encoded data removed]",
      "text/plain": [
       "<Figure size 864x576 with 2 Axes>"
      ]
     },
     "metadata": {
      "needs_background": "light"
     },
     "output_type": "display_data"
    }
   ],
   "source": [
    "fig, axs = plt.subplots(1, 2, figsize=(12,8))\n",
    "ax1 = axs[0]\n",
    "ax1 = df_lenp.plot.scatter(x=\"len_p\", y=\"c_mean\", label=\"mean\", color='r', ax=ax1)\n",
    "df_lenp.plot.scatter(x=\"len_p\", y=\"c_lstm\", label=\"lstm\", color='g', marker='>', ax=ax1)\n",
    "df_lenp.plot.scatter(x=\"len_p\", y=\"c_bilstm\", label=\"bilstm\", color='b', marker='<', ax=ax1)\n",
    "df_lenp.plot.scatter(x=\"len_p\", y=\"c_poolbilstm\", label=\"poolbilstm\", color='y', marker = 'x', ax=ax1)\n",
    "ax1.set_ylabel(\"Accuracy\")\n",
    "ax1.set_ylim(0.5, 0.9)\n",
    "ax1.set_xlabel(\"Length of premise (number of tokens)\")\n",
    "ax1.set_xlim(0,50)\n",
    "ax1.legend()\n",
    "\n",
    "ax2 =axs[1]\n",
    "df_lenh.plot.scatter(x=\"len_h\", y=\"c_mean\", label=\"mean\", color='r', ax=ax2)\n",
    "df_lenh.plot.scatter(x=\"len_h\", y=\"c_lstm\", label=\"lstm\", color='g', marker='>', ax=ax2)\n",
    "df_lenh.plot.scatter(x=\"len_h\", y=\"c_bilstm\", label=\"bilstm\", color='b', marker='<', ax=ax2)\n",
    "df_lenh.plot.scatter(x=\"len_h\", y=\"c_poolbilstm\", label=\"poolbilstm\", color='y', marker='x', ax=ax2)\n",
    "ax2.set_ylabel(None)\n",
    "ax2.set_ylim(0.5, 0.9)\n",
    "ax2.set_xlabel(\"Length of hypothesis (number of tokens)\")\n",
    "ax2.set_xlim(0,50)\n",
    "ax2.legend()"
   ]
  },
  {
   "cell_type": "markdown",
   "id": "13c8f0f4",
   "metadata": {},
   "source": [
    "## 4.3 Test role of negations in premise and hypothesis"
   ]
  },
  {
   "cell_type": "code",
   "execution_count": 25,
   "id": "66fee0f7",
   "metadata": {},
   "outputs": [],
   "source": [
    "examples = [\n",
    "    \"He is not happy\",\n",
    "    \"He isn't coming to the party\",\n",
    "    \"The game wasn't over yet\",\n",
    "    \"They don't like soccer\",\n",
    "    \"He doesn't want to hear the noise\",\n",
    "    \"The king didn't do justice\",\n",
    "    \"He has no clue\",\n",
    "    \"He hasn't done that before\",\n",
    "    \"They hadn't gone to that party without a present\",\n",
    "    \"He won't do that again\",\n",
    "    \"The sun wouldn't shine for days\",\n",
    "    \"The judge shouldn't lie\"\n",
    "]"
   ]
  },
  {
   "cell_type": "code",
   "execution_count": 28,
   "id": "a8974ab1",
   "metadata": {},
   "outputs": [],
   "source": [
    "NEGATIONS=set([\n",
    "    'not', \"n't\", \"no\", \"none\", \"never\", \"nobody\", \"nothing\", \"nowhere\", \"neither\", \n",
    "    \"hardly\", \"barely\", \"scarcely\"\n",
    "])\n",
    "\n",
    "def has_negation(s):\n",
    "    \"\"\"\n",
    "        s should be a list of tokens\n",
    "    \"\"\"\n",
    "    return (NEGATIONS - set(s)) != NEGATIONS"
   ]
  },
  {
   "cell_type": "code",
   "execution_count": 29,
   "id": "ce6b0cb5",
   "metadata": {},
   "outputs": [],
   "source": [
    "df_neg = df.assign(neg=lambda x: (has_negation(x[\"premise\"]) | has_negation(x[\"hypothesis\"])))"
   ]
  },
  {
   "cell_type": "code",
   "execution_count": 30,
   "id": "2d4a53fe",
   "metadata": {},
   "outputs": [
    {
     "data": {
      "text/html": [
       "<div>\n",
       "<style scoped>\n",
       "    .dataframe tbody tr th:only-of-type {\n",
       "        vertical-align: middle;\n",
       "    }\n",
       "\n",
       "    .dataframe tbody tr th {\n",
       "        vertical-align: top;\n",
       "    }\n",
       "\n",
       "    .dataframe thead th {\n",
       "        text-align: right;\n",
       "    }\n",
       "</style>\n",
       "<table border=\"1\" class=\"dataframe\">\n",
       "  <thead>\n",
       "    <tr style=\"text-align: right;\">\n",
       "      <th></th>\n",
       "      <th>premise</th>\n",
       "      <th>hypothesis</th>\n",
       "      <th>label</th>\n",
       "      <th>neg</th>\n",
       "    </tr>\n",
       "  </thead>\n",
       "  <tbody>\n",
       "  </tbody>\n",
       "</table>\n",
       "</div>"
      ],
      "text/plain": [
       "Empty DataFrame\n",
       "Columns: [premise, hypothesis, label, neg]\n",
       "Index: []"
      ]
     },
     "execution_count": 30,
     "metadata": {},
     "output_type": "execute_result"
    }
   ],
   "source": [
    "# view some examples with negations\n",
    "df_neg[[\"premise\", \"hypothesis\", \"label\", \"neg\"]][df_neg[\"neg\"] == True][:10]"
   ]
  },
  {
   "cell_type": "code",
   "execution_count": null,
   "id": "5df3862c",
   "metadata": {},
   "outputs": [],
   "source": []
  }
 ],
 "metadata": {
  "kernelspec": {
   "display_name": "Python 3 (ipykernel)",
   "language": "python",
   "name": "python3"
  },
  "language_info": {
   "codemirror_mode": {
    "name": "ipython",
    "version": 3
   },
   "file_extension": ".py",
   "mimetype": "text/x-python",
   "name": "python",
   "nbconvert_exporter": "python",
   "pygments_lexer": "ipython3",
   "version": "3.9.12"
  }
 },
 "nbformat": 4,
 "nbformat_minor": 5
}
